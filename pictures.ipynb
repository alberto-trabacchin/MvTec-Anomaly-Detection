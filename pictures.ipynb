{
 "cells": [
  {
   "cell_type": "code",
   "execution_count": 13,
   "metadata": {},
   "outputs": [
    {
     "data": {
      "text/plain": [
       "['tile',\n",
       " 'screw',\n",
       " 'cable',\n",
       " 'grid',\n",
       " 'transistor',\n",
       " 'pill',\n",
       " 'carpet',\n",
       " 'toothbrush',\n",
       " 'capsule',\n",
       " 'wood',\n",
       " 'zipper',\n",
       " 'metal_nut',\n",
       " 'leather',\n",
       " 'bottle',\n",
       " 'hazelnut']"
      ]
     },
     "execution_count": 13,
     "metadata": {},
     "output_type": "execute_result"
    }
   ],
   "source": [
    "from pathlib import Path\n",
    "from matplotlib import pyplot as plt\n",
    "import numpy as np\n",
    "\n",
    "images_path = Path(\"./outputs\")\n",
    "classes = [str(c.stem) for c in images_path.iterdir()]\n",
    "epochs = np.linspace(start=1, stop=200).astype(int)  # Generates 5 epochs from 1 to 10\n",
    "my_classes = ['bottle', 'zipper', 'capsule', 'transistor']\n",
    "classes"
   ]
  },
  {
   "cell_type": "code",
   "execution_count": 14,
   "metadata": {},
   "outputs": [],
   "source": [
    "images = {\n",
    "    c: list(images_path.joinpath(c).iterdir())\n",
    "    for c in classes\n",
    "}\n",
    "for c in classes:\n",
    "    images[c] = [list(images_path.joinpath(f\"{c}/{e}\").iterdir())[0] for e in epochs]"
   ]
  },
  {
   "cell_type": "code",
   "execution_count": 15,
   "metadata": {},
   "outputs": [],
   "source": [
    "import imageio.v2 as imageio\n",
    "from PIL import Image\n",
    "from pathlib import Path\n",
    "\n",
    "def create_gif(image_paths, output_path, duration=0.5, resolution=(128, 128)):\n",
    "    images = []\n",
    "    for image_path in image_paths:\n",
    "        img = Image.open(image_path)\n",
    "        img = img.resize(resolution, Image.LANCZOS)\n",
    "        images.append(img)\n",
    "    imageio.mimsave(output_path, images, duration=duration)\n",
    "\n",
    "for c in classes:\n",
    "    image_paths = images[c]\n",
    "    Path(\"gifs/\").mkdir(exist_ok=True)\n",
    "    create_gif(image_paths, f\"gifs/{c}.gif\", duration=0.5, resolution=(512, 512))"
   ]
  }
 ],
 "metadata": {
  "kernelspec": {
   "display_name": "venv-dl",
   "language": "python",
   "name": "python3"
  },
  "language_info": {
   "codemirror_mode": {
    "name": "ipython",
    "version": 3
   },
   "file_extension": ".py",
   "mimetype": "text/x-python",
   "name": "python",
   "nbconvert_exporter": "python",
   "pygments_lexer": "ipython3",
   "version": "3.10.12"
  }
 },
 "nbformat": 4,
 "nbformat_minor": 2
}
