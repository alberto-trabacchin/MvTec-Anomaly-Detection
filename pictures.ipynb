{
 "cells": [
  {
   "cell_type": "code",
   "execution_count": 85,
   "metadata": {},
   "outputs": [
    {
     "data": {
      "text/plain": [
       "['tile',\n",
       " 'screw',\n",
       " 'cable',\n",
       " 'grid',\n",
       " 'transistor',\n",
       " 'pill',\n",
       " 'carpet',\n",
       " 'toothbrush',\n",
       " 'capsule',\n",
       " 'wood',\n",
       " 'zipper',\n",
       " 'metal_nut',\n",
       " 'leather',\n",
       " 'bottle',\n",
       " 'hazelnut']"
      ]
     },
     "execution_count": 85,
     "metadata": {},
     "output_type": "execute_result"
    }
   ],
   "source": [
    "from pathlib import Path\n",
    "from matplotlib import pyplot as plt\n",
    "import numpy as np\n",
    "\n",
    "images_path = Path(\"./outputs\")\n",
    "classes = [str(c.stem) for c in images_path.iterdir()]\n",
    "epochs = np.linspace(start=1, stop=200).astype(int)  # Generates 5 epochs from 1 to 10\n",
    "my_classes = ['bottle', 'zipper', 'capsule', 'transistor']\n",
    "classes"
   ]
  },
  {
   "cell_type": "code",
   "execution_count": 86,
   "metadata": {},
   "outputs": [],
   "source": [
    "images = {\n",
    "    c: list(images_path.joinpath(c).iterdir())\n",
    "    for c in classes\n",
    "}\n",
    "for c in classes:\n",
    "    images[c] = [list(images_path.joinpath(f\"{c}/{e}\").iterdir())[0] for e in epochs]"
   ]
  },
  {
   "cell_type": "code",
   "execution_count": 87,
   "metadata": {},
   "outputs": [],
   "source": [
    "import imageio.v2 as imageio\n",
    "from PIL import Image, ImageDraw, ImageFont\n",
    "from pathlib import Path\n",
    "import io\n",
    "\n",
    "def add_text_to_image(img, text, position=(0, 0), font_size=40):\n",
    "    draw = ImageDraw.Draw(img)\n",
    "    # Load a TrueType or OpenType font file, you can specify the path to a .ttf or .otf file\n",
    "    font = ImageFont.truetype(\"fonts/arial.ttf\", font_size)\n",
    "    \n",
    "    # Determine the size of the text to create a black rectangle background\n",
    "    text_bbox = draw.textbbox((0, 0), text, font=font)\n",
    "    text_width = text_bbox[2] - text_bbox[0]\n",
    "    text_height = text_bbox[3] - text_bbox[1]\n",
    "    rectangle_size = (text_width + 10, text_height + 10)  # Add some padding\n",
    "\n",
    "    # Calculate position for the rectangle and text\n",
    "    rectangle_position = (img.width - rectangle_size[0], 0)\n",
    "    text_position = (rectangle_position[0] + 5, rectangle_position[1] + 5)\n",
    "\n",
    "    # Draw the black rectangle\n",
    "    draw.rectangle([rectangle_position, (rectangle_position[0] + rectangle_size[0], rectangle_position[1] + rectangle_size[1])], fill=\"black\")\n",
    "    \n",
    "    # Draw the text\n",
    "    draw.text(text_position, text, fill=\"white\", font=font)\n",
    "    \n",
    "    return img\n",
    "\n",
    "def create_gif(image_paths, output_path, epochs, duration=0.5, resolution=(128, 128)):\n",
    "    images = []\n",
    "    for image_path, epoch in zip(image_paths, epochs):\n",
    "        img = Image.open(image_path)\n",
    "        img = img.resize(resolution, Image.LANCZOS)\n",
    "        \n",
    "        # Add epoch number text to image\n",
    "        img = add_text_to_image(img, f\"Epoch: {epoch:4d}\", font_size=40)\n",
    "        \n",
    "        # Convert PIL image to bytes and then read with imageio\n",
    "        with io.BytesIO() as output:\n",
    "            img.save(output, format=\"PNG\")\n",
    "            imageio_image = imageio.imread(output.getvalue(), format='png')\n",
    "            images.append(imageio_image)\n",
    "\n",
    "    # Save the images as a GIF\n",
    "    imageio.mimsave(output_path, images, duration=duration, loop=0)\n",
    "\n",
    "# Assuming 'classes' and 'images' are defined elsewhere in your code\n",
    "for c in classes:\n",
    "    image_paths = images[c]\n",
    "    epochs = range(len(image_paths))  # Generate dummy epochs if not provided\n",
    "    Path(\"gifs/\").mkdir(exist_ok=True)\n",
    "    # Pass the epoch number to the create_gif function\n",
    "    create_gif(image_paths, f\"gifs/{c}.gif\", epochs, duration=1, resolution=(512, 512))\n"
   ]
  }
 ],
 "metadata": {
  "kernelspec": {
   "display_name": "venv-dl",
   "language": "python",
   "name": "python3"
  },
  "language_info": {
   "codemirror_mode": {
    "name": "ipython",
    "version": 3
   },
   "file_extension": ".py",
   "mimetype": "text/x-python",
   "name": "python",
   "nbconvert_exporter": "python",
   "pygments_lexer": "ipython3",
   "version": "3.10.12"
  }
 },
 "nbformat": 4,
 "nbformat_minor": 2
}
